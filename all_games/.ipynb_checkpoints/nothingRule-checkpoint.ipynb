{
 "cells": [
  {
   "cell_type": "code",
   "execution_count": 126,
   "metadata": {},
   "outputs": [
    {
     "name": "stdout",
     "output_type": "stream",
     "text": [
      "    city city > nothing\n",
      "    bullet bullet > nothing\n",
      "    avatar avatar > nothing\n",
      "    enemy_slow enemy_slow > nothing\n",
      "    enemy_fast enemy_fast > nothing\n",
      "    niceGuy niceGuy > nothing\n",
      "    death death > nothing\n",
      "    enemySlowPortal enemySlowPortal > nothing\n",
      "    enemyFastPortal enemyFastPortal > nothing\n",
      "    niceGuyPortal niceGuyPortal > nothing\n",
      "    wall wall > nothing\n",
      "    EOS EOS > nothing\n"
     ]
    }
   ],
   "source": [
    "import itertools\n",
    "\n",
    "f = open('wildgunman.txt', 'r')\n",
    "x = f.readlines()\n",
    "\n",
    "# find Sprites\n",
    "spriteIdx = None\n",
    "interactionIdx = None\n",
    "\n",
    "for idx, row in enumerate(x):\n",
    "    if x[idx].split() == []:\n",
    "        continue\n",
    "    if x[idx].split()[0] == 'SpriteSet':\n",
    "        spriteIdx = idx + 1\n",
    "    if x[idx].split()[0] == 'InteractionSet':\n",
    "        interactionIdx = idx + 1\n",
    "        \n",
    "#print(x[spriteIdx].split()[0])\n",
    "#print(x[interactionIdx].split()[0])\n",
    "\n",
    "indent = \"\"\n",
    "\n",
    "# assuming there is no space between 'InteractionSet' and the first interaction\n",
    "for idx, character in enumerate(x[interactionIdx]):\n",
    "    if x[interactionIdx][idx].isalpha():\n",
    "        break\n",
    "    indent += \" \"\n",
    "\n",
    "#print(indent)\n",
    "\n",
    "notSpriteSet = ['TerminationSet', 'InteractionSet', 'LevelMapping']\n",
    "notInteractionSet = ['TerminationSet', 'SpriteSet', 'LevelMapping']\n",
    "\n",
    "spriteList = []\n",
    "interactionList = []\n",
    "\n",
    "for row in x[spriteIdx:]:\n",
    "    if row.split() == []:\n",
    "        continue\n",
    "    if row.split()[0] in notSpriteSet:\n",
    "        break\n",
    "    spriteList.append(row.split()[0])\n",
    "    \n",
    "spriteList.append('EOS')\n",
    "    \n",
    "for row in x[interactionIdx:]:\n",
    "    if row.split() == []:\n",
    "        continue\n",
    "    if row.split()[0] in notInteractionSet:\n",
    "        break\n",
    "    interactionList.append(set([row.split()[0], row.split()[1]]))\n",
    "    \n",
    "#print(spriteList)\n",
    "#print(\"Interactions: \")\n",
    "#print(interactionList)\n",
    "\n",
    "k = list(itertools.combinations(spriteList, 2))\n",
    "spritePairs = []\n",
    "\n",
    "for combo in k:\n",
    "    spritePairs.append(set([combo[0], combo[1]]))\n",
    "    \n",
    "#print(spriteList)\n",
    "for sprite in spriteList:\n",
    "    spritePairs.append(set([sprite]))\n",
    "#print(spritePairs)\n",
    "newInteractions = []\n",
    "\n",
    "for pair in spritePairs:\n",
    "    if pair not in interactionList:\n",
    "        temp = list(pair)\n",
    "        if len(pair) == 1:\n",
    "            newInteractions.append(indent + temp[0] + \" \" + temp[0] + \" > \" + \"nothing\")\n",
    "            interactionList.append(pair)\n",
    "        elif len(pair) == 2:\n",
    "            newInteractions.append(indent + temp[0] + \" \" + temp[1] + \" > \" + \"nothing\")\n",
    "            newInteractions.append(indent + temp[1] + \" \" + temp[0] + \" > \" + \"nothing\")\n",
    "            interactionList.append(pair)\n",
    "\n",
    "for interaction in newInteractions:\n",
    "    print(interaction)\n",
    "    \n",
    "#print(spritePairs)\n",
    "\n",
    "#print(set(['asteroid', 'rock']) in spritePairs)\n",
    "    \n",
    "f.close()"
   ]
  },
  {
   "cell_type": "code",
   "execution_count": 80,
   "metadata": {},
   "outputs": [
    {
     "data": {
      "text/plain": [
       "{'a', 'b'}"
      ]
     },
     "execution_count": 80,
     "metadata": {},
     "output_type": "execute_result"
    }
   ],
   "source": [
    "set(['a', 'b'])"
   ]
  },
  {
   "cell_type": "code",
   "execution_count": 44,
   "metadata": {},
   "outputs": [],
   "source": [
    "k = {'a', 'b'}"
   ]
  },
  {
   "cell_type": "code",
   "execution_count": 45,
   "metadata": {},
   "outputs": [],
   "source": [
    "c = {'b', 'a'}"
   ]
  },
  {
   "cell_type": "code",
   "execution_count": 46,
   "metadata": {},
   "outputs": [
    {
     "data": {
      "text/plain": [
       "True"
      ]
     },
     "execution_count": 46,
     "metadata": {},
     "output_type": "execute_result"
    }
   ],
   "source": [
    "c == k"
   ]
  },
  {
   "cell_type": "code",
   "execution_count": 54,
   "metadata": {},
   "outputs": [
    {
     "data": {
      "text/plain": [
       "True"
      ]
     },
     "execution_count": 54,
     "metadata": {},
     "output_type": "execute_result"
    }
   ],
   "source": [
    "'a'.isalpha()"
   ]
  },
  {
   "cell_type": "code",
   "execution_count": 98,
   "metadata": {},
   "outputs": [
    {
     "data": {
      "text/plain": [
       "1"
      ]
     },
     "execution_count": 98,
     "metadata": {},
     "output_type": "execute_result"
    }
   ],
   "source": [
    "len({'1'})"
   ]
  },
  {
   "cell_type": "code",
   "execution_count": 2,
   "metadata": {},
   "outputs": [
    {
     "data": {
      "text/plain": [
       "False"
      ]
     },
     "execution_count": 2,
     "metadata": {},
     "output_type": "execute_result"
    }
   ],
   "source": [
    "('a', 'b') == ('b', 'a')"
   ]
  },
  {
   "cell_type": "code",
   "execution_count": null,
   "metadata": {},
   "outputs": [],
   "source": []
  }
 ],
 "metadata": {
  "kernelspec": {
   "display_name": "Lambda Notebook (Python 3)",
   "language": "python",
   "name": "lambda-notebook"
  },
  "language_info": {
   "codemirror_mode": {
    "name": "ipython",
    "version": 3
   },
   "file_extension": ".py",
   "mimetype": "text/x-python",
   "name": "python",
   "nbconvert_exporter": "python",
   "pygments_lexer": "ipython3",
   "version": "3.5.2"
  }
 },
 "nbformat": 4,
 "nbformat_minor": 2
}
