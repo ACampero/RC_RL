{
 "cells": [
  {
   "cell_type": "code",
   "execution_count": 1,
   "metadata": {},
   "outputs": [
    {
     "name": "stdout",
     "output_type": "stream",
     "text": [
      "        annoyed annoyed > nothing\n",
      "        annoyed quiet > nothing\n",
      "        annoyed avatar > nothing\n",
      "        annoyed george > nothing\n",
      "        annoyed EOS > nothing\n",
      "        quiet annoyed > nothing\n",
      "        quiet quiet > nothing\n",
      "        quiet avatar > nothing\n",
      "        quiet cigarette > nothing\n",
      "        quiet EOS > nothing\n",
      "        avatar annoyed > nothing\n",
      "        avatar avatar > nothing\n",
      "        avatar EOS > nothing\n",
      "        george annoyed > nothing\n",
      "        george quiet > nothing\n",
      "        george avatar > nothing\n",
      "        george george > nothing\n",
      "        george cigarette > nothing\n",
      "        george wall > nothing\n",
      "        george EOS > nothing\n",
      "        cigarette annoyed > nothing\n",
      "        cigarette quiet > nothing\n",
      "        cigarette avatar > nothing\n",
      "        cigarette george > nothing\n",
      "        cigarette cigarette > nothing\n",
      "        cigarette EOS > nothing\n",
      "        wall annoyed > nothing\n",
      "        wall quiet > nothing\n",
      "        wall avatar > nothing\n",
      "        wall george > nothing\n",
      "        wall cigarette > nothing\n",
      "        wall wall > nothing\n",
      "        wall EOS > nothing\n",
      "        EOS annoyed > nothing\n",
      "        EOS quiet > nothing\n",
      "        EOS avatar > nothing\n",
      "        EOS george > nothing\n",
      "        EOS cigarette > nothing\n",
      "        EOS wall > nothing\n",
      "        EOS EOS > nothing\n"
     ]
    }
   ],
   "source": [
    "import itertools\n",
    "\n",
    "f = open('avoidgeorge.txt', 'r')\n",
    "x = f.readlines()\n",
    "\n",
    "# find Sprites\n",
    "spriteIdx = None\n",
    "interactionIdx = None\n",
    "\n",
    "for idx, row in enumerate(x):\n",
    "    if x[idx].split() == []:\n",
    "        continue\n",
    "    if x[idx].split()[0] == 'SpriteSet':\n",
    "        spriteIdx = idx + 1\n",
    "    if x[idx].split()[0] == 'InteractionSet':\n",
    "        interactionIdx = idx + 1\n",
    "        \n",
    "#print(x[spriteIdx].split()[0])\n",
    "#print(x[interactionIdx].split()[0])\n",
    "\n",
    "indent = \"\"\n",
    "\n",
    "# assuming there is no space between 'InteractionSet' and the first interaction\n",
    "for idx, character in enumerate(x[interactionIdx]):\n",
    "    if x[interactionIdx][idx].isalpha():\n",
    "        break\n",
    "    indent += \" \"\n",
    "\n",
    "#print(indent)\n",
    "\n",
    "notSpriteSet = ['TerminationSet', 'InteractionSet', 'LevelMapping']\n",
    "notInteractionSet = ['TerminationSet', 'SpriteSet', 'LevelMapping']\n",
    "\n",
    "spriteList = []\n",
    "interactionList = []\n",
    "\n",
    "# find all sprites\n",
    "for row in x[spriteIdx:]:\n",
    "    if row.split() == []:\n",
    "        continue\n",
    "    if row.split()[0] in notSpriteSet:\n",
    "        break\n",
    "    spriteList.append(row.split()[0])\n",
    "    \n",
    "spriteList.append('EOS')\n",
    "\n",
    "# find all interactions\n",
    "for row in x[interactionIdx:]:\n",
    "    if row.split() == []:\n",
    "        continue\n",
    "    if row.split()[0] in notInteractionSet:\n",
    "        break\n",
    "    interactionList.append(tuple([row.split()[0], row.split()[1]]))\n",
    "    \n",
    "#print(spriteList)\n",
    "#print(\"Interactions: \")\n",
    "#print(interactionList)\n",
    "#k = list(itertools.combinations(spriteList, 2))\n",
    "\n",
    "spritePairs = []\n",
    "\n",
    "for sprite1 in spriteList:\n",
    "    for sprite2 in spriteList:\n",
    "        spritePairs.append(tuple([sprite1, sprite2]))\n",
    "        \n",
    "#for combo in k:\n",
    "#    spritePairs.append(tuple([combo[0], combo[1]]))\n",
    "    \n",
    "#print(spriteList)\n",
    "#for sprite in spriteList:\n",
    "#    spritePairs.append(tuple([sprite, sprite]))\n",
    "#print(spritePairs)\n",
    "\n",
    "newInteractions = []\n",
    "\n",
    "for pair in spritePairs:\n",
    "    if pair not in interactionList:\n",
    "        temp = list(pair)\n",
    "        #if len(pair) == 1:\n",
    "        #    newInteractions.append(indent + temp[0] + \" \" + temp[0] + \" > \" + \"nothing\")\n",
    "        #    interactionList.append(pair)\n",
    "        #elif len(pair) == 2:\n",
    "        newInteractions.append(indent + temp[0] + \" \" + temp[1] + \" > \" + \"nothing\")\n",
    "        #    newInteractions.append(indent + temp[1] + \" \" + temp[0] + \" > \" + \"nothing\")\n",
    "        #    interactionList.append(pair)\n",
    "\n",
    "for interaction in newInteractions:\n",
    "    print(interaction)\n",
    "    \n",
    "#print(spritePairs)\n",
    "\n",
    "#print(set(['asteroid', 'rock']) in spritePairs)\n",
    "    \n",
    "f.close()"
   ]
  },
  {
   "cell_type": "code",
   "execution_count": 80,
   "metadata": {},
   "outputs": [
    {
     "data": {
      "text/plain": [
       "{'a', 'b'}"
      ]
     },
     "execution_count": 80,
     "metadata": {},
     "output_type": "execute_result"
    }
   ],
   "source": [
    "set(['a', 'b'])"
   ]
  },
  {
   "cell_type": "code",
   "execution_count": 44,
   "metadata": {},
   "outputs": [],
   "source": [
    "k = {'a', 'b'}"
   ]
  },
  {
   "cell_type": "code",
   "execution_count": 45,
   "metadata": {},
   "outputs": [],
   "source": [
    "c = {'b', 'a'}"
   ]
  },
  {
   "cell_type": "code",
   "execution_count": 46,
   "metadata": {},
   "outputs": [
    {
     "data": {
      "text/plain": [
       "True"
      ]
     },
     "execution_count": 46,
     "metadata": {},
     "output_type": "execute_result"
    }
   ],
   "source": [
    "c == k"
   ]
  },
  {
   "cell_type": "code",
   "execution_count": 54,
   "metadata": {},
   "outputs": [
    {
     "data": {
      "text/plain": [
       "True"
      ]
     },
     "execution_count": 54,
     "metadata": {},
     "output_type": "execute_result"
    }
   ],
   "source": [
    "'a'.isalpha()"
   ]
  },
  {
   "cell_type": "code",
   "execution_count": 98,
   "metadata": {},
   "outputs": [
    {
     "data": {
      "text/plain": [
       "1"
      ]
     },
     "execution_count": 98,
     "metadata": {},
     "output_type": "execute_result"
    }
   ],
   "source": [
    "len({'1'})"
   ]
  },
  {
   "cell_type": "code",
   "execution_count": 2,
   "metadata": {},
   "outputs": [
    {
     "data": {
      "text/plain": [
       "False"
      ]
     },
     "execution_count": 2,
     "metadata": {},
     "output_type": "execute_result"
    }
   ],
   "source": [
    "('a', 'b') == ('b', 'a')"
   ]
  },
  {
   "cell_type": "code",
   "execution_count": 3,
   "metadata": {},
   "outputs": [
    {
     "name": "stdout",
     "output_type": "stream",
     "text": [
      "('a', 'a')\n"
     ]
    }
   ],
   "source": [
    "k = ('a', 'a')\n",
    "print(k)"
   ]
  },
  {
   "cell_type": "code",
   "execution_count": null,
   "metadata": {},
   "outputs": [],
   "source": []
  }
 ],
 "metadata": {
  "kernelspec": {
   "display_name": "Lambda Notebook (Python 3)",
   "language": "python",
   "name": "lambda-notebook"
  },
  "language_info": {
   "codemirror_mode": {
    "name": "ipython",
    "version": 3
   },
   "file_extension": ".py",
   "mimetype": "text/x-python",
   "name": "python",
   "nbconvert_exporter": "python",
   "pygments_lexer": "ipython3",
   "version": "3.5.2"
  }
 },
 "nbformat": 4,
 "nbformat_minor": 2
}
