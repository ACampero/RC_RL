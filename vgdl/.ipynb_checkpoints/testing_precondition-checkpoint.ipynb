{
 "cells": [
  {
   "cell_type": "code",
   "execution_count": 16,
   "metadata": {
    "collapsed": false
   },
   "outputs": [
    {
     "name": "stdout",
     "output_type": "stream",
     "text": [
      "False\n",
      "False\n"
     ]
    }
   ],
   "source": [
    "class Precondition(object):\n",
    "\tdef __init__(self, text, fn):\n",
    "\t\tself.text = text\n",
    "\t\tself.fn = fn\n",
    "\n",
    "\tdef check(self, backpack):\n",
    "\t\treturn self.fn(backpack) \n",
    "\n",
    "\tdef display(self):\n",
    "\t\tprint self.text\n",
    "\n",
    "test_p = Precondition('health>1', lambda x: x['health']>1)\n",
    "b = {'health':1, 'books':1}"
   ]
  },
  {
   "cell_type": "code",
   "execution_count": 12,
   "metadata": {
    "collapsed": false
   },
   "outputs": [
    {
     "name": "stdout",
     "output_type": "stream",
     "text": [
      "False\n",
      "False\n"
     ]
    }
   ],
   "source": [
    "# TEST CASE 2 -- pointers don't work in Python\n",
    "\n",
    "class Precondition(object): # TODO: Icorporate into framework\n",
    "\tdef __init__(self, text, fn, arg1, arg2): # TODO: Make the number of arguments optional?\n",
    "\t\tself.text = text\n",
    "\t\tself.fn = fn\n",
    "\t\tself.arg1 = arg1\n",
    "\t\tself.arg2 = arg2\n",
    "\n",
    "\tdef check(self):\n",
    "\t\treturn self.fn(self.arg1, self.arg2)\n",
    "\n",
    "\tdef display(self):\n",
    "\t\tprint self.text\n",
    "        \n",
    "backpack = {'health':1, 'treasure':1, 'coin':3}\n",
    "\n",
    "fn1 = lambda x,y: x>y\n",
    "p1 = Precondition('health > 1', fn1, backpack['health'], 1)\n",
    "\n",
    "print p1.check()\n",
    "\n",
    "backpack = {'health':2, 'treasure':1, 'coin':3}\n",
    "print p1.check()"
   ]
  },
  {
   "cell_type": "code",
   "execution_count": null,
   "metadata": {
    "collapsed": false
   },
   "outputs": [],
   "source": []
  },
  {
   "cell_type": "code",
   "execution_count": null,
   "metadata": {
    "collapsed": true
   },
   "outputs": [],
   "source": []
  }
 ],
 "metadata": {
  "kernelspec": {
   "display_name": "Python 2",
   "language": "python",
   "name": "python2"
  },
  "language_info": {
   "codemirror_mode": {
    "name": "ipython",
    "version": 2
   },
   "file_extension": ".py",
   "mimetype": "text/x-python",
   "name": "python",
   "nbconvert_exporter": "python",
   "pygments_lexer": "ipython2",
   "version": "2.7.11"
  }
 },
 "nbformat": 4,
 "nbformat_minor": 0
}
