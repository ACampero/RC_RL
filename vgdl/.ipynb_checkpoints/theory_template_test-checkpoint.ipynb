{
 "cells": [
  {
   "cell_type": "code",
   "execution_count": 94,
   "metadata": {
    "collapsed": false
   },
   "outputs": [],
   "source": [
    "from theory_template import *\n",
    "g = Game()\n",
    "t = Theory()\n",
    "e = ('killSprite', 'WHITE', 'DARKBLUE')\n",
    "e2 = ('killSprite', 'WHITE', 'PURPLE')\n",
    "e3 = ('bounceForward', 'BLUE', 'PINK')\n"
   ]
  },
  {
   "cell_type": "code",
   "execution_count": 95,
   "metadata": {
    "collapsed": false
   },
   "outputs": [
    {
     "name": "stdout",
     "output_type": "stream",
     "text": [
      "\n",
      "trying to interpret event ('killSprite', 'WHITE', 'DARKBLUE')\n",
      "result: False\n",
      "likelihood 0.0\n",
      "generating proposals...\n",
      "no theory yet. Proposing ('killSprite', 'c1', 'c2') with class assignments: [('c1', 'WHITE'), ('c2', 'DARKBLUE')]\n",
      "Added ('killSprite', 'c1', 'c2')\n",
      "added WHITE to class c1\n",
      "added DARKBLUE to class c2\n",
      "likelihood 1.0\n",
      "\n",
      "Current rule set:\n",
      "killSprite c1 c2\n",
      "\n",
      "Current class assignments:\n",
      "{'c2': ['DARKBLUE'], 'c1': ['WHITE']}\n"
     ]
    }
   ],
   "source": [
    "print \"\"\n",
    "print \"trying to interpret event\", e\n",
    "print \"result:\", t.interpret(e) #False\n",
    "print \"likelihood\", t.likelihood(g.backpack, e) #0\n",
    "proposals = t.generateProposals(g.backpack, e) #proposals is a list of proposals\n",
    "t.addProposal(proposals[0])\n",
    "print \"likelihood\", t.likelihood(g.backpack, e) #1\n",
    "t.displayRules() #one rule\n",
    "t.displayClasses()"
   ]
  },
  {
   "cell_type": "code",
   "execution_count": 96,
   "metadata": {
    "collapsed": false
   },
   "outputs": [
    {
     "name": "stdout",
     "output_type": "stream",
     "text": [
      "\n",
      "likelihood of new event ('killSprite', 'WHITE', 'PURPLE') 0.0\n",
      "generating proposals...\n",
      "killSprite is a known predicate, but current assignments don't fit. Proposing:\n",
      "[('c1', 'WHITE'), ('c2', 'PURPLE')]\n",
      "added PURPLE to class c2\n",
      "likelihood 1.0\n",
      "\n",
      "Current rule set:\n",
      "killSprite c1 c2\n",
      "\n",
      "Current class assignments:\n",
      "{'c2': ['DARKBLUE', 'PURPLE'], 'c1': ['WHITE']}\n",
      "\n"
     ]
    }
   ],
   "source": [
    "print \"\"\n",
    "print \"likelihood of new event\", e2, t.likelihood(g.backpack, e2)\n",
    "proposals = t.generateProposals(g.backpack, e2)\n",
    "t.addProposal(proposals[0])\n",
    "print \"likelihood\", t.likelihood(g.backpack, e2)\n",
    "proposal = proposals[0]\n",
    "\n",
    "t.displayRules() #one rule\n",
    "t.displayClasses()\n",
    "print \"\"\n"
   ]
  },
  {
   "cell_type": "code",
   "execution_count": 79,
   "metadata": {
    "collapsed": false
   },
   "outputs": [
    {
     "name": "stdout",
     "output_type": "stream",
     "text": [
      "likelihood of new event ('bounceForward', 'BLUE', 'PINK') 0.0\n",
      "generating proposals...\n",
      "encountered new predicate bounceForward. Proposing new predicate + new assignments:\n",
      "bounceForward c2 c2\n",
      "bounceForward c2 c1\n",
      "bounceForward c2 c3\n",
      "bounceForward c2 c4\n",
      "bounceForward c1 c2\n",
      "bounceForward c1 c1\n",
      "bounceForward c1 c3\n",
      "bounceForward c1 c4\n",
      "bounceForward c3 c2\n",
      "bounceForward c3 c1\n",
      "bounceForward c3 c3\n",
      "bounceForward c3 c4\n",
      "generated 12 proposals in total\n",
      "Randomly selecting one of these\n",
      "Added ('bounceForward', 'c2', 'c3')\n",
      "added BLUE to class c2\n",
      "added PINK to class c3\n",
      "\n",
      "Current rule set:\n",
      "killSprite c1 c2\n",
      "bounceForward c2 c3\n",
      "\n",
      "Current class assignments:\n",
      "{'c3': ['PINK'], 'c2': ['DARKBLUE', 'PURPLE', 'BLUE'], 'c1': ['WHITE']}\n",
      "likelihood 1.0\n",
      "\n"
     ]
    }
   ],
   "source": [
    "print \"likelihood of new event\", e3, t.likelihood(g.backpack, e3)\n",
    "proposals = t.generateProposals(g.backpack, e3) #\n",
    "print \"generated\", len(proposals), \"proposals in total\"\n",
    "proposal = random.choice(proposals)\n",
    "print \"Randomly selecting one of these\"\n",
    "t.addProposal(proposal)\n",
    "t.displayRules()\n",
    "t.displayClasses()\n",
    "print \"likelihood\", t.likelihood(g.backpack, e3)\n",
    "print \"\""
   ]
  },
  {
   "cell_type": "code",
   "execution_count": 97,
   "metadata": {
    "collapsed": false
   },
   "outputs": [
    {
     "name": "stdout",
     "output_type": "stream",
     "text": [
      "Now let's explicitly call keepAssignmentsAddPreconditions() on e2 ('killSprite', 'WHITE', 'PURPLE')\n",
      "this generates the following proposals:\n",
      "killSprite c1 c2 ['treasure>0']\n",
      "killSprite c1 c2 ['coin>0']\n",
      "killSprite c1 c2 ['coin>1']\n",
      "killSprite c1 c2 ['coin>2']\n",
      "notice that because health was 0 when this was called, it doesn't generate any health-related hypotheses\n",
      "specifically checking proposal killSprite c1 c2 ['coin>2']\n",
      "None\n",
      "result: True\n",
      "adding health>1 to those preconditions\n",
      "killSprite c1 c2 ['treasure>0']\n",
      "killSprite c1 c2 ['coin>0']\n",
      "killSprite c1 c2 ['coin>1']\n",
      "killSprite c1 c2 ['coin>2', 'health>1']\n",
      "result False\n",
      "Now adding 2 health to backpack\n",
      "And re-checking preconditions: True\n"
     ]
    }
   ],
   "source": [
    "g.backpack = {'health':0, 'treasure':1, 'coin':3}\n",
    "e4 = ('bounceForward', 'RED', 'ORANGE')\n",
    "\n",
    "\"\"\"tests for preconditions\"\"\"\n",
    "print \"Now let's explicitly call keepAssignmentsAddPreconditions() on e2\", e2\n",
    "proposals = t.keepAssignmentsAddPreconditions(g.backpack, e2)\n",
    "print \"this generates the following proposals:\"\n",
    "[p.display() for p in proposals]\n",
    "print \"notice that because health was 0 when this was called, it doesn't generate any health-related hypotheses\"\n",
    "print \"specifically checking proposal\", proposals[3].display()\n",
    "print \"result:\", proposals[3].checkPreconditions(g.backpack) #False --> Should be True\n",
    "p = Precondition('health>1','health',1)\n",
    "print \"adding\", p.text, \"to those preconditions\"\n",
    "proposals[3].addPrecondition(p) # Adds p to the fourth precondition\n",
    "[p.display() for p in proposals]\n",
    "print \"result\", proposals[3].checkPreconditions(g.backpack) #False\n",
    "print \"Now adding 2 health to backpack\"\n",
    "g.backpack['health'] = 2\n",
    "print \"And re-checking preconditions:\", proposals[3].checkPreconditions(g.backpack) #True\n"
   ]
  },
  {
   "cell_type": "code",
   "execution_count": 81,
   "metadata": {
    "collapsed": false
   },
   "outputs": [
    {
     "name": "stdout",
     "output_type": "stream",
     "text": [
      "Now let's explicitly call keepAssignmentsAddPreconditions() on e2 ('killSprite', 'WHITE', 'PURPLE')\n",
      "this generates the following proposals:\n",
      "killSprite c1 c2 ['treasure>0']\n",
      "killSprite c1 c2 ['coin>0']\n",
      "killSprite c1 c2 ['coin>1']\n",
      "killSprite c1 c2 ['coin>2']\n",
      "notice that because health was 0 when this was called, it doesn't generate any health-related hypotheses\n",
      "specifically checking proposal killSprite c1 c2 ['coin>2']\n",
      "None\n",
      "result: True\n",
      "adding health>1 to those preconditions\n",
      "killSprite c1 c2 ['treasure>0']\n",
      "killSprite c1 c2 ['coin>0']\n",
      "killSprite c1 c2 ['coin>1']\n",
      "killSprite c1 c2 ['coin>2', 'health>1']\n",
      "result False\n",
      "Now adding 2 health to backpack\n",
      "And re-checking preconditions: True\n"
     ]
    }
   ],
   "source": [
    "g.backpack = {'health':0, 'treasure':1, 'coin':3}\n",
    "e4 = ('bounceForward', 'RED', 'ORANGE')\n",
    "\n",
    "\"\"\"tests for preconditions\"\"\"\n",
    "print \"Now let's explicitly call keepAssignmentsAddPreconditions() on e2\", e2\n",
    "proposals = t.keepAssignmentsAddPreconditions(g.backpack, e2)\n",
    "print \"this generates the following proposals:\"\n",
    "[p.display() for p in proposals]\n",
    "print \"notice that because health was 0 when this was called, it doesn't generate any health-related hypotheses\"\n",
    "print \"specifically checking proposal\", proposals[3].display()\n",
    "print \"result:\", proposals[3].checkPreconditions(g.backpack) #False --> Should be True\n",
    "p = Precondition('health>1','health',1)\n",
    "print \"adding\", p.text, \"to those preconditions\"\n",
    "proposals[3].addPrecondition(p) # Adds p to the fourth precondition\n",
    "[p.display() for p in proposals]\n",
    "print \"result\", proposals[3].checkPreconditions(g.backpack) #False\n",
    "print \"Now adding 2 health to backpack\"\n",
    "g.backpack['health'] = 2\n",
    "print \"And re-checking preconditions:\", proposals[3].checkPreconditions(g.backpack) #True\n",
    "\n",
    "\n"
   ]
  },
  {
   "cell_type": "code",
   "execution_count": 89,
   "metadata": {
    "collapsed": false
   },
   "outputs": [
    {
     "ename": "TypeError",
     "evalue": "__init__() takes exactly 4 arguments (3 given)",
     "output_type": "error",
     "traceback": [
      "\u001b[0;31m---------------------------------------------------------------------------\u001b[0m",
      "\u001b[0;31mTypeError\u001b[0m                                 Traceback (most recent call last)",
      "\u001b[0;32m<ipython-input-89-cd9595f7d241>\u001b[0m in \u001b[0;36m<module>\u001b[0;34m()\u001b[0m\n\u001b[0;32m----> 1\u001b[0;31m \u001b[0mtest_p\u001b[0m \u001b[0;34m=\u001b[0m \u001b[0mPrecondition\u001b[0m\u001b[0;34m(\u001b[0m\u001b[0;34m'health>1'\u001b[0m\u001b[0;34m,\u001b[0m\u001b[0;32mlambda\u001b[0m \u001b[0mx\u001b[0m\u001b[0;34m:\u001b[0m \u001b[0mx\u001b[0m\u001b[0;34m>\u001b[0m\u001b[0;36m1\u001b[0m\u001b[0;34m)\u001b[0m\u001b[0;34m\u001b[0m\u001b[0m\n\u001b[0m",
      "\u001b[0;31mTypeError\u001b[0m: __init__() takes exactly 4 arguments (3 given)"
     ]
    }
   ],
   "source": []
  },
  {
   "cell_type": "code",
   "execution_count": null,
   "metadata": {
    "collapsed": false
   },
   "outputs": [],
   "source": []
  },
  {
   "cell_type": "code",
   "execution_count": null,
   "metadata": {
    "collapsed": true
   },
   "outputs": [],
   "source": []
  }
 ],
 "metadata": {
  "kernelspec": {
   "display_name": "Python 2",
   "language": "python",
   "name": "python2"
  },
  "language_info": {
   "codemirror_mode": {
    "name": "ipython",
    "version": 2
   },
   "file_extension": ".py",
   "mimetype": "text/x-python",
   "name": "python",
   "nbconvert_exporter": "python",
   "pygments_lexer": "ipython2",
   "version": "2.7.11"
  }
 },
 "nbformat": 4,
 "nbformat_minor": 0
}
